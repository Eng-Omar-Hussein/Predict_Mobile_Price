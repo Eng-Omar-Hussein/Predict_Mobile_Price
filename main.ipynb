{
 "cells": [
  {
   "cell_type": "markdown",
   "id": "a24d223b",
   "metadata": {},
   "source": [
    "# Mobile Price Classification \n",
    "### Classify Mobile Price Range\n",
    "Bob has started his own mobile company. He wants to give tough fight to big companies like Apple,Samsung etc.\n",
    "He does not know how to estimate price of mobiles his company creates. In this competitive mobile phone market you cannot simply assume things. To solve this problem he collects sales data of mobile phones of various companies.\n",
    "Bob wants to find out some relation between features of a mobile phone(eg:- RAM,Internal Memory etc) and its selling price. But he is not so good at Machine Learning. So he needs your help to solve this problem.\n",
    "In this problem you do not have to predict actual price but a price range indicating how high the price is [More..](https://github.com/Eng-Omar-Hussein/Predict_Mobile_Price/tree/main)"
   ]
  },
  {
   "cell_type": "markdown",
   "id": "3cece80b",
   "metadata": {},
   "source": [
    "## Import Libraries"
   ]
  },
  {
   "cell_type": "code",
   "execution_count": 1,
   "id": "522fd1e8",
   "metadata": {},
   "outputs": [],
   "source": [
    "import pandas as pd\n",
    "import numpy as np\n",
    "import csv\n",
    "import matplotlib.pyplot as plt"
    "import seaborn as sns"
   ]
  },
  {
   "cell_type": "markdown",
   "id": "6b342b57",
   "metadata": {},
   "source": [
    "## Web Scraping"
   ]
  },
  {
   "cell_type": "code",
   "execution_count": null,
   "id": "f57c76fd",
   "metadata": {},
   "outputs": [],
   "source": []
  },
  {
   "cell_type": "code",
   "execution_count": null,
   "id": "a7df717d",
   "metadata": {},
   "outputs": [],
   "source": []
  },
  {
   "cell_type": "markdown",
   "id": "650b43d9",
   "metadata": {
    "scrolled": true
   },
   "source": [
    "## Importing Dataset"
   ]
  },
  {
   "cell_type": "code",
   "execution_count": null,
   "id": "4177a53f",
   "metadata": {},
   "outputs": [],
   "source": []
  },
  {
   "cell_type": "code",
   "execution_count": null,
   "id": "f7739e21",
   "metadata": {},
   "outputs": [],
   "source": []
  },
  {
   "cell_type": "markdown",
   "id": "69dc47a3",
   "metadata": {},
   "source": [
    "## Data Cleaning & Pre-processing"
   ]
  },
  {
   "cell_type": "markdown",
   "id": "36af5dfb",
   "metadata": {},
   "source": [
    "#### Dealing with Missing Data"
   ]
  },
  {
   "cell_type": "code",
   "execution_count": null,
   "id": "9d9d0e41",
   "metadata": {},
   "outputs": [],
   "source": []
  },
  {
   "cell_type": "markdown",
   "id": "3bcb3851",
   "metadata": {},
   "source": [
    "#### Converting Categorical Features"
   ]
  },
  {
   "cell_type": "code",
   "execution_count": null,
   "id": "4982a5bc",
   "metadata": {},
   "outputs": [],
   "source": []
  },
  {
   "cell_type": "markdown",
   "id": "4e2cfe24",
   "metadata": {},
   "source": [
    "## Exploratory Data Analysis "
   ]
  },
  {
   "cell_type": "code",
   "execution_count": null,
   "id": "5c526cd3",
   "metadata": {},
   "outputs": [],
   "source": []
  },
  {
   "cell_type": "markdown",
   "id": "e4ee912f",
   "metadata": {},
   "source": [
    "## Building Our Model"
   ]
  },
  {
   "cell_type": "markdown",
   "id": "bef94e24",
   "metadata": {},
   "source": [
    "#### Train / Test Split Data"
   ]
  },
  {
   "cell_type": "code",
   "execution_count": null,
   "id": "9eaf9a27",
   "metadata": {},
   "outputs": [],
   "source": []
  },
  {
   "cell_type": "markdown",
   "id": "e98decb4",
   "metadata": {},
   "source": [
    "#### Model Training and Predicting"
   ]
  },
  {
   "cell_type": "code",
   "execution_count": null,
   "id": "aeeca475",
   "metadata": {},
   "outputs": [],
   "source": []
  },
  {
   "cell_type": "markdown",
   "id": "4073c00d",
   "metadata": {},
   "source": [
    "#### Model Evaluation"
   ]
  },
  {
   "cell_type": "code",
   "execution_count": null,
   "id": "ea2f44e7",
   "metadata": {},
   "outputs": [],
   "source": []
  },
  {
   "cell_type": "code",
   "execution_count": null,
   "id": "1d3fe469",
   "metadata": {},
   "outputs": [],
   "source": []
  }
 ],
 "metadata": {
  "kernelspec": {
   "display_name": "Python 3 (ipykernel)",
   "language": "python",
   "name": "python3"
  },
  "language_info": {
   "codemirror_mode": {
    "name": "ipython",
    "version": 3
   },
   "file_extension": ".py",
   "mimetype": "text/x-python",
   "name": "python",
   "nbconvert_exporter": "python",
   "pygments_lexer": "ipython3",
   "version": "3.11.3"
  }
 },
 "nbformat": 4,
 "nbformat_minor": 5
}
