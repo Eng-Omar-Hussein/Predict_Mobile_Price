{
 "cells": [
  {
   "cell_type": "code",
   "execution_count": 41,
   "id": "db3b56df",
   "metadata": {},
   "outputs": [],
   "source": [
    "import numpy as np\n",
    "from bs4 import BeautifulSoup\n",
    "import requests \n",
    "import pandas as pd\n",
    "import seaborn as sns\n",
    "import matplotlib.pyplot as plt\n",
    "import time\n",
    "from selenium.common.exceptions import StaleElementReferenceException\n",
    "from selenium.webdriver.common.by import By\n",
    "from selenium import webdriver"
   ]
  },
  {
   "cell_type": "code",
   "execution_count": 42,
   "id": "b92eabdb",
   "metadata": {},
   "outputs": [],
   "source": [
    "URL = \"https://btech.com/en/moblies/mobile-phones-smartphones/smartphones.html\""
   ]
  },
  {
   "cell_type": "code",
   "execution_count": 43,
   "id": "4c212188",
   "metadata": {},
   "outputs": [],
   "source": [
    "HEADERS = ({'User-Agent':'Mozilla/5.0 (Windows NT 10.0; Win64; x64) AppleWebKit/537.36 (KHTML, like Gecko) Chrome/116.0.0.0 Safari/537.36', 'Accept-Language':'en-US , en;q=0.5'})   "
   ]
  },
  {
   "cell_type": "code",
   "execution_count": 44,
   "id": "3d4cd677",
   "metadata": {},
   "outputs": [],
   "source": [
    "driver = webdriver.Chrome()\n",
    "driver.maximize_window()\n",
    "driver.implicitly_wait(15)\n",
    "driver.get(\"https://btech.com/en/moblies/mobile-phones-smartphones/smartphones.html\")\n",
    "showmore =  driver.find_element(By.XPATH, \"//div[contains(@class, 'amscroll-load-button btn-outline primary medium')]\")\n",
    "try:\n",
    "    while showmore.is_displayed():\n",
    "        driver.execute_script(\"arguments[0].click();\", showmore)\n",
    "        time.sleep(3)\n",
    "        try:\n",
    "            showmore =  driver.find_element(By.XPATH, \"//div[contains(@class, 'amscroll-load-button btn-outline primary medium')]\")\n",
    "        except:\n",
    "            break\n",
    "except StaleElementReferenceException:\n",
    "    pass\n",
    "soup = BeautifulSoup(driver.page_source, 'lxml')\n",
    "driver.quit()"
   ]
  },
  {
   "cell_type": "code",
   "execution_count": 45,
   "id": "b2bf84a0",
   "metadata": {},
   "outputs": [],
   "source": [
    "# webpage  >>>>> response 200\n",
    "# webpage.content"
   ]
  },
  {
   "cell_type": "code",
   "execution_count": 46,
   "id": "e9541fd1",
   "metadata": {},
   "outputs": [],
   "source": [
    "# from bytes to html format\n",
    "# soup = BeautifulSoup(webpage.content, \"html.parser\")"
   ]
  },
  {
   "cell_type": "markdown",
   "id": "53258499",
   "metadata": {},
   "source": [
    "### search on one page"
   ]
  },
  {
   "cell_type": "code",
   "execution_count": 47,
   "id": "587e98be",
   "metadata": {},
   "outputs": [],
   "source": [
    "links = soup.find_all('a', attrs={'class':'listingWrapperSection'})"
   ]
  },
  {
   "cell_type": "code",
   "execution_count": 1,
   "id": "a39b8e90",
   "metadata": {},
   "outputs": [
    {
     "ename": "NameError",
     "evalue": "name 'links' is not defined",
     "output_type": "error",
     "traceback": [
      "\u001b[0;31m---------------------------------------------------------------------------\u001b[0m",
      "\u001b[0;31mNameError\u001b[0m                                 Traceback (most recent call last)",
      "Cell \u001b[0;32mIn[1], line 1\u001b[0m\n\u001b[0;32m----> 1\u001b[0m links\n",
      "\u001b[0;31mNameError\u001b[0m: name 'links' is not defined"
     ]
    }
   ],
   "source": [
    "links"
   ]
  },
  {
   "cell_type": "code",
   "execution_count": 2,
   "id": "272fb55c",
   "metadata": {},
   "outputs": [
    {
     "ename": "NameError",
     "evalue": "name 'links' is not defined",
     "output_type": "error",
     "traceback": [
      "\u001b[0;31m---------------------------------------------------------------------------\u001b[0m",
      "\u001b[0;31mNameError\u001b[0m                                 Traceback (most recent call last)",
      "Cell \u001b[0;32mIn[2], line 1\u001b[0m\n\u001b[0;32m----> 1\u001b[0m links[\u001b[38;5;241m2\u001b[39m]\u001b[38;5;241m.\u001b[39mget(\u001b[38;5;124m'\u001b[39m\u001b[38;5;124mhref\u001b[39m\u001b[38;5;124m'\u001b[39m)\n",
      "\u001b[0;31mNameError\u001b[0m: name 'links' is not defined"
     ]
    }
   ],
   "source": [
    "links[2].get('href')"
   ]
  },
  {
   "cell_type": "code",
   "execution_count": 50,
   "id": "304ef6c4",
   "metadata": {},
   "outputs": [],
   "source": [
    "one_page = requests.get(links[2].get('href'), headers = HEADERS)"
   ]
  },
  {
   "cell_type": "code",
   "execution_count": 51,
   "id": "eeed06a3",
   "metadata": {},
   "outputs": [
    {
     "data": {
      "text/plain": [
       "<Response [200]>"
      ]
     },
     "execution_count": 51,
     "metadata": {},
     "output_type": "execute_result"
    }
   ],
   "source": [
    "one_page"
   ]
  },
  {
   "cell_type": "code",
   "execution_count": 52,
   "id": "4d03b5bd",
   "metadata": {},
   "outputs": [],
   "source": [
    "new_soup = BeautifulSoup(one_page.content, \"html.parser\")"
   ]
  },
  {
   "cell_type": "code",
   "execution_count": 3,
   "id": "e5ee45fc",
   "metadata": {},
   "outputs": [
    {
     "ename": "NameError",
     "evalue": "name 'new_soup' is not defined",
     "output_type": "error",
     "traceback": [
      "\u001b[0;31m---------------------------------------------------------------------------\u001b[0m",
      "\u001b[0;31mNameError\u001b[0m                                 Traceback (most recent call last)",
      "Cell \u001b[0;32mIn[3], line 1\u001b[0m\n\u001b[0;32m----> 1\u001b[0m new_soup\n",
      "\u001b[0;31mNameError\u001b[0m: name 'new_soup' is not defined"
     ]
    }
   ],
   "source": [
    "new_soup"
   ]
  },
  {
   "cell_type": "markdown",
   "id": "deb66df0",
   "metadata": {},
   "source": [
    "### finish one page, now create the DF"
   ]
  },
  {
   "cell_type": "code",
   "execution_count": 54,
   "id": "e0c35133",
   "metadata": {},
   "outputs": [
    {
     "data": {
      "text/plain": [
       "'Samsung'"
      ]
     },
     "execution_count": 54,
     "metadata": {},
     "output_type": "execute_result"
    }
   ],
   "source": [
    "new_soup.find(\"td\" , attrs={\"class\":\"col data gfk_brand_16299_val\"}).text.strip()"
   ]
  },
  {
   "cell_type": "code",
   "execution_count": 55,
   "id": "235da6af",
   "metadata": {},
   "outputs": [
    {
     "data": {
      "text/plain": [
       "'Galaxy A14'"
      ]
     },
     "execution_count": 55,
     "metadata": {},
     "output_type": "execute_result"
    }
   ],
   "source": [
    "# extract name of phone\n",
    "# new_soup.find(\"span\" , attrs={\"data-ui-id\":\"page-title-wrapper\"}).text.strip()\n",
    "new_soup.find(\"td\" , attrs={\"class\":\"col data model_name_val\"}).text.strip()"
   ]
  },
  {
   "cell_type": "code",
   "execution_count": 56,
   "id": "37296e38",
   "metadata": {},
   "outputs": [
    {
     "data": {
      "text/plain": [
       "'128'"
      ]
     },
     "execution_count": 56,
     "metadata": {},
     "output_type": "execute_result"
    }
   ],
   "source": [
    "# storage\n",
    "new_soup.find(\"td\" , attrs={\"class\":\"col data storage_capacity_val\"}).text.strip().split(\" \")[0]"
   ]
  },
  {
   "cell_type": "code",
   "execution_count": 57,
   "id": "f45c8334",
   "metadata": {},
   "outputs": [
    {
     "data": {
      "text/plain": [
       "'4'"
      ]
     },
     "execution_count": 57,
     "metadata": {},
     "output_type": "execute_result"
    }
   ],
   "source": [
    "# ram\n",
    "new_soup.find(\"td\" , attrs={\"class\":\"col data ram_val\"}).text.strip().split(\" \")[0]"
   ]
  },
  {
   "cell_type": "code",
   "execution_count": 58,
   "id": "1114c32d",
   "metadata": {},
   "outputs": [
    {
     "data": {
      "text/plain": [
       "'13'"
      ]
     },
     "execution_count": 58,
     "metadata": {},
     "output_type": "execute_result"
    }
   ],
   "source": [
    "# front camera\n",
    "new_soup.find(\"td\" , attrs={\"class\":\"col data front_camera_val\"}).text.strip().split(\" \")[0]"
   ]
  },
  {
   "cell_type": "code",
   "execution_count": 59,
   "id": "9a6eda4e",
   "metadata": {},
   "outputs": [
    {
     "data": {
      "text/plain": [
       "'4000'"
      ]
     },
     "execution_count": 59,
     "metadata": {},
     "output_type": "execute_result"
    }
   ],
   "source": [
    "new_soup.find(\"td\" , attrs={\"class\":\"col data battery_capacity1_val\"}).text.split(\" \")[0]"
   ]
  },
  {
   "cell_type": "code",
   "execution_count": 60,
   "id": "2157c8cc",
   "metadata": {},
   "outputs": [
    {
     "data": {
      "text/plain": [
       "'1080 x 2408'"
      ]
     },
     "execution_count": 60,
     "metadata": {},
     "output_type": "execute_result"
    }
   ],
   "source": [
    "new_soup.find(\"td\" , attrs={\"class\":\"col data resolution_val\"}).text"
   ]
  },
  {
   "cell_type": "code",
   "execution_count": 61,
   "id": "7d42cad3",
   "metadata": {},
   "outputs": [
    {
     "data": {
      "text/plain": [
       "'5899'"
      ]
     },
     "execution_count": 61,
     "metadata": {},
     "output_type": "execute_result"
    }
   ],
   "source": [
    "# price\n",
    "new_soup.find(\"p\",{\"class\":\"price-huge-static\"}).contents[1].find('span').contents[1].text.strip().replace(\",\" , \"\")"
   ]
  },
  {
   "cell_type": "code",
   "execution_count": 62,
   "id": "b918bf09",
   "metadata": {},
   "outputs": [
    {
     "data": {
      "text/plain": [
       "'Android'"
      ]
     },
     "execution_count": 62,
     "metadata": {},
     "output_type": "execute_result"
    }
   ],
   "source": [
    "# OS\n",
    "new_soup.find(\"td\" , attrs={\"class\":\"col data operating_system_type_val\"}).text.split(\" \")[0]"
   ]
  },
  {
   "cell_type": "code",
   "execution_count": 63,
   "id": "c87088f6",
   "metadata": {},
   "outputs": [
    {
     "data": {
      "text/plain": [
       "'6.6'"
      ]
     },
     "execution_count": 63,
     "metadata": {},
     "output_type": "execute_result"
    }
   ],
   "source": [
    "# inches\n",
    "new_soup.find(\"td\" , attrs={\"class\":\"col data display_size_val\"}).text.split(\" \")[0]"
   ]
  },
  {
   "cell_type": "code",
   "execution_count": 64,
   "id": "f6644a75",
   "metadata": {},
   "outputs": [],
   "source": [
    "links_list = []"
   ]
  },
  {
   "cell_type": "code",
   "execution_count": 65,
   "id": "3419547c",
   "metadata": {},
   "outputs": [],
   "source": [
    "# Loop for extracting links from Tag Objects\n",
    "for link in links:\n",
    "    links_list.append(link.get('href'))"
   ]
  },
  {
   "cell_type": "code",
   "execution_count": 66,
   "id": "d723d053",
   "metadata": {},
   "outputs": [],
   "source": [
    "d = {'Brand':[], \"title\":[], \"storage\":[],\"Ram\":[],\"Front Camera\":[],\"Battery\":[], \"Resolutions\":[],\"OS\":[],\"Inches\":[],\"price in EGY\":[]}"
   ]
  },
  {
   "cell_type": "code",
   "execution_count": 67,
   "id": "657ee602",
   "metadata": {},
   "outputs": [],
   "source": [
    "# new_soup.find(\"td\" , attrs={\"class\":\"col data gfk_brand_16299_val\"}).text.strip()\n",
    "def get_brand(new_soup):\n",
    "    try:\n",
    "        brand = new_soup.find(\"td\" , attrs={\"class\":\"col data gfk_brand_16299_val\"}).text.strip()\n",
    "    except:\n",
    "        brand = \"\"\n",
    "    return brand\n",
    "\n",
    "def get_title(new_soup):\n",
    "    try:\n",
    "        title = new_soup.find(\"td\" , attrs={\"class\":\"col data model_name_val\"}).text.strip()\n",
    "    except AttributeError:\n",
    "        title = \"none\"\n",
    "    return title"
   ]
  },
  {
   "cell_type": "code",
   "execution_count": 68,
   "id": "35ea9667",
   "metadata": {},
   "outputs": [],
   "source": [
    "def get_price(new_soup):\n",
    "    try:\n",
    "        price = new_soup.find(\"p\",{\"class\":\"price-huge-static\"}).contents[1].find('span').contents[1].text.strip().replace(\",\" , \"\")\n",
    "    except:\n",
    "        price = \"\"\n",
    "    return price\n",
    "\n",
    "def get_storage(new_soup):\n",
    "\n",
    "    try:\n",
    "        storage = new_soup.find(\"td\" , attrs={\"class\":\"col data storage_capacity_val\"}).text.strip().split(\" \")[0]\n",
    "        \n",
    "    except:\n",
    "        storage = \"\"\n",
    "\n",
    "    return storage"
   ]
  },
  {
   "cell_type": "code",
   "execution_count": 69,
   "id": "d1cae527",
   "metadata": {},
   "outputs": [],
   "source": [
    "def get_ram(new_soup):\n",
    "    try:\n",
    "        ram = new_soup.find(\"td\" , attrs={\"class\":\"col data ram_val\"}).text.strip().split(\" \")[0]\n",
    "    except:\n",
    "        ram = \"\"\n",
    "    return ram\n",
    "\n",
    "def get_FrontCamera(new_soup):\n",
    "    try:\n",
    "        FrontCamera = new_soup.find(\"td\" , attrs={\"class\":\"col data front_camera_val\"}).text.strip().split(\" \")[0]\n",
    "    except:\n",
    "        FrontCamera = \"\"\n",
    "    return FrontCamera\n",
    "\n",
    "def get_Battery(new_soup):\n",
    "    try:\n",
    "        Battery = new_soup.find(\"td\" , attrs={\"class\":\"col data battery_capacity1_val\"}).text.split(\" \")[0]\n",
    "    except:\n",
    "        Battery = \"\"\n",
    "    return Battery\n",
    "\n",
    "def get_Resolutions(new_soup):\n",
    "    try:\n",
    "        Resolutions = new_soup.find(\"td\" , attrs={\"class\":\"col data resolution_val\"}).text\n",
    "    except:\n",
    "        Resolutions = \"\"\n",
    "    return Resolutions\n",
    "\n",
    "def get_OS(new_soup):\n",
    "    try:\n",
    "        os = new_soup.find(\"td\" , attrs={\"class\":\"col data operating_system_type_val\"}).text.split(\" \")[0]\n",
    "    except:\n",
    "        os = \"\"\n",
    "    return os\n",
    "\n",
    "def get_Inches(new_soup):\n",
    "    try:\n",
    "        Inches = new_soup.find(\"td\" , attrs={\"class\":\"col data display_size_val\"}).text.split(\" \")[0]\n",
    "    except:\n",
    "        Inches = \"\"\n",
    "    return Inches\n"
   ]
  },
  {
   "cell_type": "code",
   "execution_count": 76,
   "id": "49756d40",
   "metadata": {},
   "outputs": [],
   "source": [
    "for link in links_list:\n",
    "        new_webpage = requests.get(link, headers=HEADERS)\n",
    "\n",
    "        new_soup = BeautifulSoup(new_webpage.content, \"html.parser\")\n",
    "\n",
    "        # Function calls to display all necessary product information\n",
    "        d['Brand'].append(get_brand(new_soup))\n",
    "        d['title'].append(get_title(new_soup))\n",
    "        d['storage'].append(get_storage(new_soup))\n",
    "        d['Front Camera'].append(get_FrontCamera(new_soup))\n",
    "        d['Battery'].append(get_Battery(new_soup))\n",
    "        d['Resolutions'].append(get_Resolutions(new_soup))\n",
    "        d['OS'].append(get_OS(new_soup))\n",
    "        d['Inches'].append(get_Inches(new_soup))\n",
    "        d['price in EGY'].append(get_price(new_soup))\n",
    "        d['Ram'].append(get_ram(new_soup))"
   ]
  },
  {
   "cell_type": "code",
   "execution_count": 77,
   "id": "5dc692b1",
   "metadata": {},
   "outputs": [],
   "source": [
    "phone_df = pd.DataFrame.from_dict(d)\n",
    "phone_df['price in EGY'].replace('', np.nan, inplace=True)\n",
    "phone_df.to_csv(\"phone_data.csv\", header=True, index=True)"
   ]
  },
  {
   "cell_type": "code",
   "execution_count": 78,
   "id": "7320b7ed",
   "metadata": {
    "scrolled": false
   },
   "outputs": [
    {
     "data": {
      "text/html": [
       "<div>\n",
       "<style scoped>\n",
       "    .dataframe tbody tr th:only-of-type {\n",
       "        vertical-align: middle;\n",
       "    }\n",
       "\n",
       "    .dataframe tbody tr th {\n",
       "        vertical-align: top;\n",
       "    }\n",
       "\n",
       "    .dataframe thead th {\n",
       "        text-align: right;\n",
       "    }\n",
       "</style>\n",
       "<table border=\"1\" class=\"dataframe\">\n",
       "  <thead>\n",
       "    <tr style=\"text-align: right;\">\n",
       "      <th></th>\n",
       "      <th>Brand</th>\n",
       "      <th>title</th>\n",
       "      <th>storage</th>\n",
       "      <th>Ram</th>\n",
       "      <th>Front Camera</th>\n",
       "      <th>Battery</th>\n",
       "      <th>Resolutions</th>\n",
       "      <th>OS</th>\n",
       "      <th>Inches</th>\n",
       "      <th>price in EGY</th>\n",
       "    </tr>\n",
       "  </thead>\n",
       "  <tbody>\n",
       "    <tr>\n",
       "      <th>0</th>\n",
       "      <td>Honor</td>\n",
       "      <td>x7a</td>\n",
       "      <td>128</td>\n",
       "      <td>4</td>\n",
       "      <td>8</td>\n",
       "      <td>5000</td>\n",
       "      <td>720 x 1600</td>\n",
       "      <td>Android</td>\n",
       "      <td>6.8</td>\n",
       "      <td>7666</td>\n",
       "    </tr>\n",
       "    <tr>\n",
       "      <th>1</th>\n",
       "      <td>Apple</td>\n",
       "      <td>iPhone 13</td>\n",
       "      <td>128</td>\n",
       "      <td>4</td>\n",
       "      <td>12</td>\n",
       "      <td>3000</td>\n",
       "      <td>1170 x 2532</td>\n",
       "      <td>iOS</td>\n",
       "      <td>6.1</td>\n",
       "      <td>33333</td>\n",
       "    </tr>\n",
       "    <tr>\n",
       "      <th>2</th>\n",
       "      <td>Samsung</td>\n",
       "      <td>Galaxy A14</td>\n",
       "      <td>128</td>\n",
       "      <td>4</td>\n",
       "      <td>13</td>\n",
       "      <td>4000</td>\n",
       "      <td>1080 x 2408</td>\n",
       "      <td>Android</td>\n",
       "      <td>6.6</td>\n",
       "      <td>5899</td>\n",
       "    </tr>\n",
       "    <tr>\n",
       "      <th>3</th>\n",
       "      <td>Vivo</td>\n",
       "      <td>Y27</td>\n",
       "      <td>128</td>\n",
       "      <td>6</td>\n",
       "      <td>8</td>\n",
       "      <td>4000</td>\n",
       "      <td>1080 x 2388</td>\n",
       "      <td>Android</td>\n",
       "      <td>6.6</td>\n",
       "      <td>7790</td>\n",
       "    </tr>\n",
       "    <tr>\n",
       "      <th>4</th>\n",
       "      <td>Samsung</td>\n",
       "      <td>Galaxy A24</td>\n",
       "      <td>128</td>\n",
       "      <td>8</td>\n",
       "      <td>13</td>\n",
       "      <td>4000</td>\n",
       "      <td>1080 x 2340</td>\n",
       "      <td>Android</td>\n",
       "      <td>6.5</td>\n",
       "      <td>8699</td>\n",
       "    </tr>\n",
       "    <tr>\n",
       "      <th>...</th>\n",
       "      <td>...</td>\n",
       "      <td>...</td>\n",
       "      <td>...</td>\n",
       "      <td>...</td>\n",
       "      <td>...</td>\n",
       "      <td>...</td>\n",
       "      <td>...</td>\n",
       "      <td>...</td>\n",
       "      <td>...</td>\n",
       "      <td>...</td>\n",
       "    </tr>\n",
       "    <tr>\n",
       "      <th>331</th>\n",
       "      <td>Apple</td>\n",
       "      <td>iPhone 12</td>\n",
       "      <td>128</td>\n",
       "      <td>4</td>\n",
       "      <td>12</td>\n",
       "      <td>2000</td>\n",
       "      <td>1170 x 2532</td>\n",
       "      <td>iOS</td>\n",
       "      <td>6.1</td>\n",
       "      <td>28500</td>\n",
       "    </tr>\n",
       "    <tr>\n",
       "      <th>332</th>\n",
       "      <td>Xiaomi</td>\n",
       "      <td>Redmi Note 11</td>\n",
       "      <td>128</td>\n",
       "      <td>4</td>\n",
       "      <td>13</td>\n",
       "      <td>4000</td>\n",
       "      <td>1080 x 2400</td>\n",
       "      <td>Android</td>\n",
       "      <td>6.4</td>\n",
       "      <td>7099</td>\n",
       "    </tr>\n",
       "    <tr>\n",
       "      <th>333</th>\n",
       "      <td>Samsung</td>\n",
       "      <td>Galaxy A53 5G</td>\n",
       "      <td>128</td>\n",
       "      <td>8</td>\n",
       "      <td>32</td>\n",
       "      <td>4000</td>\n",
       "      <td>1080 x 2400</td>\n",
       "      <td>Android</td>\n",
       "      <td>6.5</td>\n",
       "      <td>16499</td>\n",
       "    </tr>\n",
       "    <tr>\n",
       "      <th>334</th>\n",
       "      <td>Samsung</td>\n",
       "      <td>Galaxy A03</td>\n",
       "      <td>128</td>\n",
       "      <td>4</td>\n",
       "      <td>5</td>\n",
       "      <td></td>\n",
       "      <td></td>\n",
       "      <td>Android</td>\n",
       "      <td>6.5</td>\n",
       "      <td>5399</td>\n",
       "    </tr>\n",
       "    <tr>\n",
       "      <th>335</th>\n",
       "      <td>Xiaomi</td>\n",
       "      <td>Redmi 10 2022</td>\n",
       "      <td>128</td>\n",
       "      <td>4</td>\n",
       "      <td>8</td>\n",
       "      <td>4000</td>\n",
       "      <td>1080 × 2400</td>\n",
       "      <td>Android</td>\n",
       "      <td>6.5</td>\n",
       "      <td>5999</td>\n",
       "    </tr>\n",
       "  </tbody>\n",
       "</table>\n",
       "<p>336 rows × 10 columns</p>\n",
       "</div>"
      ],
      "text/plain": [
       "       Brand          title storage Ram Front Camera Battery  Resolutions  \\\n",
       "0      Honor            x7a     128   4            8    5000   720 x 1600   \n",
       "1      Apple      iPhone 13     128   4           12    3000  1170 x 2532   \n",
       "2    Samsung     Galaxy A14     128   4           13    4000  1080 x 2408   \n",
       "3       Vivo            Y27     128   6            8    4000  1080 x 2388   \n",
       "4    Samsung     Galaxy A24     128   8           13    4000  1080 x 2340   \n",
       "..       ...            ...     ...  ..          ...     ...          ...   \n",
       "331    Apple      iPhone 12     128   4           12    2000  1170 x 2532   \n",
       "332   Xiaomi  Redmi Note 11     128   4           13    4000  1080 x 2400   \n",
       "333  Samsung  Galaxy A53 5G     128   8           32    4000  1080 x 2400   \n",
       "334  Samsung     Galaxy A03     128   4            5                        \n",
       "335   Xiaomi  Redmi 10 2022     128   4            8    4000  1080 × 2400   \n",
       "\n",
       "          OS Inches price in EGY  \n",
       "0    Android    6.8         7666  \n",
       "1        iOS    6.1        33333  \n",
       "2    Android    6.6         5899  \n",
       "3    Android    6.6         7790  \n",
       "4    Android    6.5         8699  \n",
       "..       ...    ...          ...  \n",
       "331      iOS    6.1        28500  \n",
       "332  Android    6.4         7099  \n",
       "333  Android    6.5        16499  \n",
       "334  Android    6.5         5399  \n",
       "335  Android    6.5         5999  \n",
       "\n",
       "[336 rows x 10 columns]"
      ]
     },
     "execution_count": 78,
     "metadata": {},
     "output_type": "execute_result"
    }
   ],
   "source": [
    "phone_df"
   ]
  },
  {
   "cell_type": "code",
   "execution_count": null,
   "id": "d83fdbd0",
   "metadata": {},
   "outputs": [],
   "source": [
    "x = phone_df.sort_values('price in EGY',ascending=False)"
   ]
  },
  {
   "cell_type": "code",
   "execution_count": null,
   "id": "3d34f308",
   "metadata": {},
   "outputs": [],
   "source": [
    "x.to_csv(\"x_data.csv\", header=True, index=False)"
   ]
  }
 ],
 "metadata": {
  "kernelspec": {
   "display_name": "Python 3 (ipykernel)",
   "language": "python",
   "name": "python3"
  },
  "language_info": {
   "codemirror_mode": {
    "name": "ipython",
    "version": 3
   },
   "file_extension": ".py",
   "mimetype": "text/x-python",
   "name": "python",
   "nbconvert_exporter": "python",
   "pygments_lexer": "ipython3",
   "version": "3.11.3"
  }
 },
 "nbformat": 4,
 "nbformat_minor": 5
}
